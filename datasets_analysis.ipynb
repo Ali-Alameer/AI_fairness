{
  "cells": [
    {
      "cell_type": "markdown",
      "metadata": {
        "colab_type": "text",
        "id": "view-in-github"
      },
      "source": [
        "<a href=\"https://colab.research.google.com/github/Ali-Alameer/AI_fairness/blob/main/datasets_analysis.ipynb\" target=\"_parent\"><img src=\"https://colab.research.google.com/assets/colab-badge.svg\" alt=\"Open In Colab\"/></a>"
      ]
    },
    {
      "cell_type": "markdown",
      "metadata": {
        "id": "t0LIXWb6Gsc-"
      },
      "source": [
        "#### This notebook Break down the datasets used in the framework of Fairness\n",
        "#### It shows also the original datasets before preprocessing"
      ]
    },
    {
      "cell_type": "code",
      "execution_count": null,
      "metadata": {
        "id": "s5v5qFwUGsdQ"
      },
      "outputs": [],
      "source": [
        "!pip install 'aif360[all]'\n",
        "!wget https://raw.githubusercontent.com/Ali-Alameer/AI_fairness/main/common_utils.py\n"
      ]
    },
    {
      "cell_type": "code",
      "execution_count": null,
      "metadata": {},
      "outputs": [],
      "source": [
        "# preparing paths to download the datasets \n",
        "\n",
        "import site\n",
        "import os\n",
        "\n",
        "# Get the dist-packages directory path\n",
        "dist_packages_path = site.getsitepackages()[0]\n",
        "\n",
        "# Print the path\n",
        "print(dist_packages_path)\n",
        "\n",
        "## Adult dataset\n",
        "\n",
        "aif360_dir_names = 'aif360/data/raw/adult/adult.names'\n",
        "aif360_dir_test = 'aif360/data/raw/adult/adult.test'\n",
        "aif360_dir_data = 'aif360/data/raw/adult/adult.data'\n",
        "full_path_names = os.path.join(dist_packages_path, aif360_dir_names)\n",
        "full_path_test = os.path.join(dist_packages_path, aif360_dir_test)\n",
        "full_path_data = os.path.join(dist_packages_path, aif360_dir_data)\n",
        "\n",
        "## German credit score dataset\n",
        "\n",
        "german_dir_data = 'aif360/data/raw/german/german.data'\n",
        "german_dir_docs = 'aif360/data/raw/german/german.doc'\n",
        "\n",
        "german_path_data = os.path.join(dist_packages_path, german_dir_data)\n",
        "german_path_docs = os.path.join(dist_packages_path, german_dir_docs)\n",
        "\n",
        "## Compas dataset \n",
        "\n",
        "compas_dir_csv = 'aif360/data/raw/compas/compas-scores-two-years.csv'\n",
        "compas_path_csv = os.path.join(dist_packages_path, compas_dir_csv)"
      ]
    },
    {
      "cell_type": "code",
      "execution_count": null,
      "metadata": {
        "id": "z9DAk7OkGsdU"
      },
      "outputs": [],
      "source": [
        "import urllib.request \n",
        "# For Adult dataset\n",
        "urllib.request.urlretrieve(\"https://archive.ics.uci.edu/ml/machine-learning-databases/adult/adult.data\",full_path_data)   \n",
        "urllib.request.urlretrieve(\"https://archive.ics.uci.edu/ml/machine-learning-databases/adult/adult.test\",full_path_test)  \n",
        "urllib.request.urlretrieve(\"https://archive.ics.uci.edu/ml/machine-learning-databases/adult/adult.names\",full_path_names) \n",
        "\n",
        "# # For German Dataset\n",
        "urllib.request.urlretrieve(\"https://archive.ics.uci.edu/ml/machine-learning-databases/statlog/german/german.data\",german_path_data)   \n",
        "urllib.request.urlretrieve(\"https://archive.ics.uci.edu/ml/machine-learning-databases/statlog/german/german.doc\",german_path_docs)\n",
        "\n",
        "# # For Compas Dataset\n",
        "urllib.request.urlretrieve(\"https://raw.githubusercontent.com/propublica/compas-analysis/master/compas-scores-two-years.csv\",compas_path_csv)  "
      ]
    },
    {
      "cell_type": "code",
      "execution_count": 3,
      "metadata": {
        "id": "O1Qp1g0sGsdW"
      },
      "outputs": [],
      "source": [
        "%matplotlib inline\n",
        "# Load all necessary packages\n",
        "import sys\n",
        "sys.path.append(\"../\")\n",
        "import numpy as np\n",
        "from tqdm import tqdm\n",
        "\n",
        "from aif360.datasets import BinaryLabelDataset\n",
        "from aif360.datasets import AdultDataset, GermanDataset, CompasDataset\n",
        "from aif360.metrics import BinaryLabelDatasetMetric\n",
        "from aif360.metrics import ClassificationMetric\n",
        "from aif360.algorithms.preprocessing.reweighing import Reweighing\n",
        "from aif360.algorithms.preprocessing.optim_preproc_helpers.data_preproc_functions\\\n",
        "        import load_preproc_data_adult, load_preproc_data_german, load_preproc_data_compas\n",
        "from sklearn.linear_model import LogisticRegression\n",
        "from sklearn.preprocessing import StandardScaler\n",
        "from sklearn.metrics import accuracy_score\n",
        "\n",
        "from IPython.display import Markdown, display\n",
        "import matplotlib.pyplot as plt\n",
        "\n",
        "from common_utils import compute_metrics"
      ]
    },
    {
      "cell_type": "markdown",
      "metadata": {
        "id": "D2DIWi1dGsdb"
      },
      "source": [
        "#### Load dataset and set options"
      ]
    },
    {
      "cell_type": "code",
      "execution_count": 4,
      "metadata": {
        "id": "3zIuWq7ZGsdc"
      },
      "outputs": [],
      "source": [
        "## import dataset\n",
        "dataset_used = \"adult\" # \"adult\", \"german\", \"compas\"\n",
        "protected_attribute_used = 1 # 1, 2\n",
        "\n",
        "\n",
        "if dataset_used == \"adult\":\n",
        "#     dataset_orig = AdultDataset()\n",
        "    if protected_attribute_used == 1:\n",
        "        privileged_groups = [{'sex': 1}]\n",
        "        unprivileged_groups = [{'sex': 0}]\n",
        "        dataset_orig = load_preproc_data_adult(['sex'])\n",
        "    else:\n",
        "        privileged_groups = [{'race': 1}]\n",
        "        unprivileged_groups = [{'race': 0}]\n",
        "        dataset_orig = load_preproc_data_adult(['race'])\n",
        "    \n",
        "elif dataset_used == \"german\":\n",
        "#     dataset_orig = GermanDataset()\n",
        "    if protected_attribute_used == 1:\n",
        "        privileged_groups = [{'sex': 1}]\n",
        "        unprivileged_groups = [{'sex': 0}]\n",
        "        dataset_orig = load_preproc_data_german(['sex'])\n",
        "    else:\n",
        "        privileged_groups = [{'age': 1}]\n",
        "        unprivileged_groups = [{'age': 0}]\n",
        "        dataset_orig = load_preproc_data_german(['age'])\n",
        "    \n",
        "elif dataset_used == \"compas\":\n",
        "#     dataset_orig = CompasDataset()\n",
        "    if protected_attribute_used == 1:\n",
        "        privileged_groups = [{'sex': 1}]\n",
        "        unprivileged_groups = [{'sex': 0}]\n",
        "        dataset_orig = load_preproc_data_compas(['sex'])\n",
        "    else:\n",
        "        privileged_groups = [{'race': 1}]\n",
        "        unprivileged_groups = [{'race': 0}]\n",
        "        dataset_orig = load_preproc_data_compas(['race'])\n",
        "\n",
        "all_metrics =  [\"Statistical parity difference\",\n",
        "                   \"Average odds difference\",\n",
        "                   \"Equal opportunity difference\"]\n",
        "\n",
        "#random seed for calibrated equal odds prediction\n",
        "np.random.seed(1)"
      ]
    },
    {
      "cell_type": "markdown",
      "metadata": {
        "id": "3cyhuFW_HOa4"
      },
      "source": [
        "## Exploratory Data Analysis(EDA)"
      ]
    },
    {
      "cell_type": "code",
      "execution_count": null,
      "metadata": {
        "id": "MxSoVRnPSHqa"
      },
      "outputs": [],
      "source": [
        "# Convert the initial Adult Dataset from AIf360 Library into a dataframe and view the created dataframe\n",
        "dataset_orig_adult= AdultDataset()\n",
        "dataset_orig_adult1=dataset_orig_adult.convert_to_dataframe()[0]\n",
        "dataset_orig_adult1"
      ]
    },
    {
      "cell_type": "code",
      "execution_count": null,
      "metadata": {
        "id": "ZCkVkvqbJptu"
      },
      "outputs": [],
      "source": [
        "# Convert pre-processed AIF360 Adult dataset to dataframe and view dataframe created\n",
        "dataset_processed_adult = load_preproc_data_adult()\n",
        "dataset_processed_adult1=dataset_processed_adult.convert_to_dataframe()[0]\n",
        "dataset_processed_adult1"
      ]
    },
    {
      "cell_type": "code",
      "execution_count": null,
      "metadata": {
        "id": "mqL8blvcJ0yl"
      },
      "outputs": [],
      "source": [
        "# View the data structure for the pre-processed Adult dataset\n",
        "dataset_processed_adult1.shape"
      ]
    },
    {
      "cell_type": "code",
      "execution_count": null,
      "metadata": {
        "id": "ufjFxfMWJ6E9"
      },
      "outputs": [],
      "source": [
        "# View the data structure for the initial Adult dataset in AIF360 library N/B missing data of 3620 rows were removed from AdultDataset\n",
        "dataset_orig_adult1.shape"
      ]
    },
    {
      "cell_type": "code",
      "execution_count": null,
      "metadata": {
        "id": "dgb7lnpYKZWw"
      },
      "outputs": [],
      "source": [
        "# View a list of the dataset features\n",
        "dataset_orig_adult1.columns.tolist()"
      ]
    },
    {
      "cell_type": "code",
      "execution_count": null,
      "metadata": {
        "id": "5A0sU09cKgTC"
      },
      "outputs": [],
      "source": [
        "# View the Features for the pre-processed Adult dataset\n",
        "dataset_processed_adult1.columns.tolist()"
      ]
    },
    {
      "cell_type": "code",
      "execution_count": null,
      "metadata": {
        "id": "QbIB1YxbKihd"
      },
      "outputs": [],
      "source": [
        "# Check for missing values in the initial Adult dataset in AIF360 library\n",
        "dataset_orig_adult1.isnull().sum()"
      ]
    },
    {
      "cell_type": "code",
      "execution_count": null,
      "metadata": {
        "id": "ciPE33J1KoTF"
      },
      "outputs": [],
      "source": [
        "# check for missing values for the pre-processed Adult dataset\n",
        "dataset_processed_adult1.isnull().sum()"
      ]
    },
    {
      "cell_type": "code",
      "execution_count": null,
      "metadata": {
        "id": "BQvV9z0HZo18"
      },
      "outputs": [],
      "source": [
        "# Explore education number of years in the Adult dataset to check for outliers using box plot\n",
        "import seaborn as sns\n",
        "sns.boxplot(x= 'education-num', data= dataset_orig_adult1)\n",
        "plt.title('Education number Distribution for Adult Dataset')"
      ]
    },
    {
      "cell_type": "code",
      "execution_count": null,
      "metadata": {
        "id": "JsclUAV7dAaF"
      },
      "outputs": [],
      "source": [
        "# Using a distplot, explore the effect of education number of years on Income level of residents \n",
        "dataset_orig_adult1['income-per-year']= dataset_orig_adult1['income-per-year'].replace({0.0:'<= $50k income', 1.0:'> $50K income'})\n",
        "sns.histplot(x= 'education-num', hue = 'income-per-year',data= dataset_orig_adult1,multiple=\"dodge\")\n",
        "plt.title('Education number by Income Distribution for Adult Dataset')"
      ]
    },
    {
      "cell_type": "code",
      "execution_count": null,
      "metadata": {
        "id": "Iy0rgwLQbR20"
      },
      "outputs": [],
      "source": [
        "# Explore age distribution relationship with income level of residents\n",
        "sns.histplot(x= 'age', hue = 'income-per-year',data= dataset_orig_adult1,multiple=\"stack\")\n",
        "plt.title('Age Distribution by Income for Adult Dataset')"
      ]
    },
    {
      "cell_type": "code",
      "execution_count": null,
      "metadata": {
        "id": "kb_R-M8k7jG_"
      },
      "outputs": [],
      "source": [
        "## explore income binary in regards to sex distribution in adult dataset to check class imbalance and distribution\n",
        "## Privileged = 1, unprivileged = 0\n",
        "##sex (privileged: Male, unprivileged: Female) \n",
        "##Income binary( privileged: > $50K income, unprivileged: <= $50k income)\n",
        "import seaborn as sns\n",
        "dataset_processed_adult1['Income Binary']= dataset_processed_adult1['Income Binary'].replace({0.0:'<= $50k income', 1.0:'> $50K income'})\n",
        "sns.countplot(x=\"Income Binary\", hue= 'sex', data = dataset_processed_adult1)\n",
        "plt.title('Income Distribution by Sex for Adult Dataset')\n",
        "plt.legend(title= 'sex', labels=(\"Female\",\"Male\"))\n",
        "plt.show()"
      ]
    },
    {
      "cell_type": "code",
      "execution_count": null,
      "metadata": {
        "id": "mHGzdXxB7lC1"
      },
      "outputs": [],
      "source": [
        "## explore  sex as a protected attribute in adult dataset to check class imbalance and distribution\n",
        "## Privileged = 1, unprivileged = 0\n",
        "##sex (privileged: Male, unprivileged: Female) \n",
        "dataset_processed_adult1['sex']= dataset_processed_adult1['sex'].replace({0.0:'Female', 1.0:'Male'})\n",
        "sns.countplot(x=\"sex\", data = dataset_processed_adult1)\n",
        "plt.title('Sex Distribution for Adult Dataset')\n",
        "plt.show()"
      ]
    },
    {
      "cell_type": "code",
      "execution_count": null,
      "metadata": {
        "id": "eQUrr6IQ7pXh"
      },
      "outputs": [],
      "source": [
        "## explore race as aprotected attribute in adult dataset to check class imbalance and distribution\n",
        "## Privileged = 1, unprivileged = 0\n",
        "##race (privileged: White, unprivileged: Non-white).\n",
        "dataset_processed_adult1['race']= dataset_processed_adult1['race'].replace({0.0:'Non-white', 1.0:'White'})\n",
        "sns.countplot(x=\"race\", data = dataset_processed_adult1)\n",
        "plt.title('Race Distribution for Adult Dataset')\n",
        "plt.show()"
      ]
    },
    {
      "cell_type": "code",
      "execution_count": null,
      "metadata": {
        "id": "N6BTvwHpD_yl"
      },
      "outputs": [],
      "source": [
        "# Explore income distribution of residents\n",
        "tips = dataset_orig_adult1\n",
        "ax= sns.countplot(x= 'income-per-year',data= tips)\n",
        "plt.title('Income Distribution for Adult Dataset')\n",
        "for p in ax.patches:\n",
        "    ax.annotate('{:.1f}%'.format(100*p.get_height()/len(tips)), (p.get_x()+0.2, p.get_height()+5))"
      ]
    },
    {
      "cell_type": "code",
      "execution_count": null,
      "metadata": {
        "id": "NQ4QszM57rjv"
      },
      "outputs": [],
      "source": [
        "# Convert pre-processed German dataset to dataframe\n",
        "dataset_processed_german = load_preproc_data_german(['sex'])\n",
        "dataset_processed_german2=dataset_processed_german.convert_to_dataframe()[0]\n",
        "dataset_processed_german2"
      ]
    },
    {
      "cell_type": "code",
      "execution_count": null,
      "metadata": {
        "id": "DYQLRVZUU_Fu"
      },
      "outputs": [],
      "source": [
        "# Convert initial German dataset to dataframe\n",
        "dataset_orig_german=GermanDataset()\n",
        "dataset_orig_german1= dataset_orig_german.convert_to_dataframe()[0]\n",
        "dataset_orig_german1"
      ]
    },
    {
      "cell_type": "code",
      "execution_count": null,
      "metadata": {
        "id": "mQGvi-ndRfaY"
      },
      "outputs": [],
      "source": [
        "# View the data structure for the pre-processed German dataset\n",
        "dataset_processed_german2.shape"
      ]
    },
    {
      "cell_type": "code",
      "execution_count": null,
      "metadata": {
        "id": "Om9wDPnjRjTx"
      },
      "outputs": [],
      "source": [
        "# View the data structure for the initial German dataset in AIF360 Library\n",
        "dataset_orig_german1.shape"
      ]
    },
    {
      "cell_type": "code",
      "execution_count": null,
      "metadata": {
        "id": "d6DTI78kubUk"
      },
      "outputs": [],
      "source": [
        "# View the Features for the pre-processed German dataset\n",
        "dataset_processed_german2.columns.tolist()"
      ]
    },
    {
      "cell_type": "code",
      "execution_count": null,
      "metadata": {
        "id": "Rhn7kieSt45i"
      },
      "outputs": [],
      "source": [
        "# View the Features for the Initial German dataset in AIF360\n",
        "dataset_orig_german1.columns.tolist()"
      ]
    },
    {
      "cell_type": "code",
      "execution_count": null,
      "metadata": {
        "id": "AB844igNLAcv"
      },
      "outputs": [],
      "source": [
        "# Check for missing values in pre-processed German dataset\n",
        "dataset_processed_german2.isnull().sum()"
      ]
    },
    {
      "cell_type": "code",
      "execution_count": null,
      "metadata": {
        "id": "vOPfVprOHDPQ"
      },
      "outputs": [],
      "source": [
        "# Explore credit risk based onduration in months.\n",
        "plt.figure(figsize=(15,5))\n",
        "sns.countplot(x=\"month\", hue= 'credit', data = dataset_orig_german1,palette=['#432371',\"#FAAE7B\"])\n",
        "plt.title('Duration of Credits(Month) Distribution for German Dataset')\n",
        "plt.legend(title= 'credit',labels=['good credit', 'bad credit'])\n",
        "plt.show()"
      ]
    },
    {
      "cell_type": "code",
      "execution_count": null,
      "metadata": {
        "id": "F7FqoHL97wAv"
      },
      "outputs": [],
      "source": [
        "## explore  sex in relationship with credit risk in processed German dataset to check class imbalance and distribution\n",
        "## Privileged = 1, unprivileged = 0\n",
        "##sex (privileged: Male, unprivileged: Female) \n",
        "## Credit ( good credit =1, bad credit = 2)\n",
        "dataset_processed_german2['sex']= dataset_processed_german2['sex'].replace({0.0:'Female', 1.0:'Male'})\n",
        "sns.countplot(x=\"sex\", hue= 'credit', data = dataset_processed_german2,palette=['#432371',\"#FAAE7B\"])\n",
        "plt.title('Sex Distribution for German Dataset')\n",
        "plt.legend(title= 'credit',labels=['good credit', 'bad credit'])\n",
        "plt.show()"
      ]
    },
    {
      "cell_type": "code",
      "execution_count": null,
      "metadata": {
        "id": "2n_zfMwy7w7J"
      },
      "outputs": [],
      "source": [
        "## explore age in German dataset to check class imbalance and distribution\n",
        "## Privileged  = 1, unprivileged = 0\n",
        "## age (privileged: Older than or Equal to 25 years, unprivileged: Younger than 25 years) \n",
        "## Credit ( good credit =1, bad credit = 2)\n",
        "dataset_processed_german2['age']= dataset_processed_german2['age'].replace({0.0:'< 25 years', 1.0:'>=25 years'})\n",
        "sns.countplot(x=\"age\", hue ='credit',data = dataset_processed_german2,palette=['#432371',\"#FAAE7B\"])\n",
        "plt.title('Age Distribution for German Dataset')\n",
        "plt.legend(title= 'credit',labels=['good credit', 'bad credit'])\n",
        "plt.show()"
      ]
    },
    {
      "cell_type": "code",
      "execution_count": null,
      "metadata": {
        "id": "qJ4HPE6jJ2_w"
      },
      "outputs": [],
      "source": [
        "# Explore Credit distribution of German Dataset\n",
        "tips =  dataset_processed_german2\n",
        "## Credit ( good credit =1, bad credit = 2)\n",
        "dataset_processed_german2['credit']= dataset_processed_german2['credit'].replace({1.0:'Good credit', 2.0:'Bad credit'})\n",
        "ax= sns.countplot(x= 'credit',data= tips, palette= ['#432371',\"#FAAE7B\"])\n",
        "plt.title('Credit Distribution for German Dataset')\n",
        "for p in ax.patches:\n",
        "    ax.annotate('{:.1f}%'.format(100*p.get_height()/len(tips)), (p.get_x()+0.2, p.get_height()+5))"
      ]
    },
    {
      "cell_type": "code",
      "execution_count": null,
      "metadata": {
        "id": "KLVGepQ37zBy"
      },
      "outputs": [],
      "source": [
        "# Convert processed Compas dataset to dataframe\n",
        "dataset_processed_compas = load_preproc_data_compas()\n",
        "dataset_processed_compas2=dataset_processed_compas.convert_to_dataframe()[0]\n",
        "dataset_processed_compas2"
      ]
    },
    {
      "cell_type": "code",
      "execution_count": null,
      "metadata": {
        "id": "f1Vg_8NL0Hb2"
      },
      "outputs": [],
      "source": [
        "# Convert the Initial Compas dataset in AIF360 library to dataframe\n",
        "dataset_orig_compas = CompasDataset()\n",
        "dataset_orig_compas2 = dataset_orig_compas.convert_to_dataframe()[0]\n",
        "dataset_orig_compas2"
      ]
    },
    {
      "cell_type": "code",
      "execution_count": null,
      "metadata": {
        "id": "o_tsbWIRg_3y"
      },
      "outputs": [],
      "source": [
        "# View the data structure for the pre-processed compas dataset\n",
        "dataset_processed_compas2.shape"
      ]
    },
    {
      "cell_type": "code",
      "execution_count": null,
      "metadata": {
        "id": "-PXNIqYmhDaR"
      },
      "outputs": [],
      "source": [
        "# View the data structure for the initial compas dataset in AIF360 library\n",
        "dataset_orig_compas2.shape"
      ]
    },
    {
      "cell_type": "code",
      "execution_count": null,
      "metadata": {
        "id": "3584JjQrg6yT"
      },
      "outputs": [],
      "source": [
        "# View the features for the pre-processed compas dataset\n",
        "dataset_processed_compas2.columns.tolist()"
      ]
    },
    {
      "cell_type": "code",
      "execution_count": null,
      "metadata": {
        "id": "9ehjs8o00UwM"
      },
      "outputs": [],
      "source": [
        "# View the Features for the initial compas dataset in AIF360 library\n",
        "dataset_orig_compas2.columns.tolist()"
      ]
    },
    {
      "cell_type": "code",
      "execution_count": null,
      "metadata": {
        "id": "PFEZHg3vLXv9"
      },
      "outputs": [],
      "source": [
        "# Check for missing values in pre-processed Compas dataset\n",
        "dataset_processed_compas2.isnull().sum()"
      ]
    },
    {
      "cell_type": "code",
      "execution_count": null,
      "metadata": {
        "id": "eRKWylkgae0F"
      },
      "outputs": [],
      "source": [
        "# Explore Age distribution of the Initial Compas Dataset in relation to two-years recid\n",
        "dataset_orig_compas2['two_year_recid']= dataset_orig_compas2['two_year_recid'].replace({0.0:'re-offended',1.0:'did not re-offend'})\n",
        "sns.histplot(x= 'age', hue= 'two_year_recid', data= dataset_orig_compas2,multiple=\"stack\")\n",
        "plt.title('Age Distribution for Compas Dataset')\n",
        "plt.show()"
      ]
    },
    {
      "cell_type": "code",
      "execution_count": null,
      "metadata": {
        "id": "T8SauRrnbes6"
      },
      "outputs": [],
      "source": [
        "#Explore the prior counts of crimes in relation to recidivism\n",
        "sns.histplot(x= 'priors_count', hue= 'two_year_recid', data= dataset_orig_compas2, multiple=\"stack\")\n",
        "plt.title('Prior Crime count Distribution for Compas Dataset' )\n",
        "plt.show()"
      ]
    }
  ],
  "metadata": {
    "colab": {
      "include_colab_link": true,
      "provenance": [],
      "toc_visible": true
    },
    "kernelspec": {
      "display_name": "Python 3",
      "language": "python",
      "name": "python3"
    },
    "language_info": {
      "codemirror_mode": {
        "name": "ipython",
        "version": 2
      },
      "file_extension": ".py",
      "mimetype": "text/x-python",
      "name": "python",
      "nbconvert_exporter": "python",
      "pygments_lexer": "ipython2",
      "version": "2.7.11"
    }
  },
  "nbformat": 4,
  "nbformat_minor": 0
}
