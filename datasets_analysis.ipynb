{
  "cells": [
    {
      "cell_type": "markdown",
      "metadata": {
        "id": "view-in-github",
        "colab_type": "text"
      },
      "source": [
        "<a href=\"https://colab.research.google.com/github/Ali-Alameer/AI_fairness/blob/main/datasets_analysis.ipynb\" target=\"_parent\"><img src=\"https://colab.research.google.com/assets/colab-badge.svg\" alt=\"Open In Colab\"/></a>"
      ]
    },
    {
      "cell_type": "markdown",
      "metadata": {
        "id": "t0LIXWb6Gsc-"
      },
      "source": [
        "#### This notebook Break down the datasets used in the framework of Fairness\n",
        "#### It shows also the original datasets before preprocessing"
      ]
    },
    {
      "cell_type": "code",
      "execution_count": null,
      "metadata": {
        "id": "s5v5qFwUGsdQ"
      },
      "outputs": [],
      "source": [
        "!pip install 'aif360[all]'\n",
        "!wget https://raw.githubusercontent.com/Trusted-AI/AIF360/master/examples/common_utils.py\n"
      ]
    },
    {
      "cell_type": "code",
      "execution_count": null,
      "metadata": {
        "id": "z9DAk7OkGsdU"
      },
      "outputs": [],
      "source": [
        "import urllib.request \n",
        "# For Adult dataset\n",
        "urllib.request.urlretrieve(\"https://archive.ics.uci.edu/ml/machine-learning-databases/adult/adult.data\",'/usr/local/lib/python3.9/dist-packages/aif360/data/raw/adult/adult.data')   \n",
        "urllib.request.urlretrieve(\"https://archive.ics.uci.edu/ml/machine-learning-databases/adult/adult.test\",'/usr/local/lib/python3.9/dist-packages/aif360/data/raw/adult/adult.test')  \n",
        "urllib.request.urlretrieve(\"https://archive.ics.uci.edu/ml/machine-learning-databases/adult/adult.names\",'/usr/local/lib/python3.9/dist-packages/aif360/data/raw/adult/adult.names') \n",
        "\n",
        "# For German Dataset\n",
        "urllib.request.urlretrieve(\"https://archive.ics.uci.edu/ml/machine-learning-databases/statlog/german/german.data\",'/usr/local/lib/python3.9/dist-packages/aif360/data/raw/german/german.data')   \n",
        "urllib.request.urlretrieve(\"https://archive.ics.uci.edu/ml/machine-learning-databases/statlog/german/german.doc\",'/usr/local/lib/python3.9/dist-packages/aif360/data/raw/german/german.doc')\n",
        "\n",
        "# For Compas Dataset\n",
        "urllib.request.urlretrieve(\"https://raw.githubusercontent.com/propublica/compas-analysis/master/compas-scores-two-years.csv\",'/usr/local/lib/python3.9/dist-packages/aif360/data/raw/compas/compas-scores-two-years.csv')   \n",
        "\n"
      ]
    },
    {
      "cell_type": "code",
      "execution_count": 3,
      "metadata": {
        "id": "O1Qp1g0sGsdW"
      },
      "outputs": [],
      "source": [
        "%matplotlib inline\n",
        "# Load all necessary packages\n",
        "import sys\n",
        "sys.path.append(\"../\")\n",
        "import numpy as np\n",
        "from tqdm import tqdm\n",
        "\n",
        "from aif360.datasets import BinaryLabelDataset\n",
        "from aif360.datasets import AdultDataset, GermanDataset, CompasDataset\n",
        "from aif360.metrics import BinaryLabelDatasetMetric\n",
        "from aif360.metrics import ClassificationMetric\n",
        "from aif360.algorithms.preprocessing.reweighing import Reweighing\n",
        "from aif360.algorithms.preprocessing.optim_preproc_helpers.data_preproc_functions\\\n",
        "        import load_preproc_data_adult, load_preproc_data_german, load_preproc_data_compas\n",
        "from sklearn.linear_model import LogisticRegression\n",
        "from sklearn.preprocessing import StandardScaler\n",
        "from sklearn.metrics import accuracy_score\n",
        "\n",
        "from IPython.display import Markdown, display\n",
        "import matplotlib.pyplot as plt\n",
        "\n",
        "from common_utils import compute_metrics"
      ]
    },
    {
      "cell_type": "markdown",
      "metadata": {
        "id": "D2DIWi1dGsdb"
      },
      "source": [
        "#### Load dataset and set options"
      ]
    },
    {
      "cell_type": "code",
      "execution_count": 4,
      "metadata": {
        "id": "3zIuWq7ZGsdc"
      },
      "outputs": [],
      "source": [
        "## import dataset\n",
        "dataset_used = \"adult\" # \"adult\", \"german\", \"compas\"\n",
        "protected_attribute_used = 1 # 1, 2\n",
        "\n",
        "\n",
        "if dataset_used == \"adult\":\n",
        "#     dataset_orig = AdultDataset()\n",
        "    if protected_attribute_used == 1:\n",
        "        privileged_groups = [{'sex': 1}]\n",
        "        unprivileged_groups = [{'sex': 0}]\n",
        "        dataset_orig = load_preproc_data_adult(['sex'])\n",
        "    else:\n",
        "        privileged_groups = [{'race': 1}]\n",
        "        unprivileged_groups = [{'race': 0}]\n",
        "        dataset_orig = load_preproc_data_adult(['race'])\n",
        "    \n",
        "elif dataset_used == \"german\":\n",
        "#     dataset_orig = GermanDataset()\n",
        "    if protected_attribute_used == 1:\n",
        "        privileged_groups = [{'sex': 1}]\n",
        "        unprivileged_groups = [{'sex': 0}]\n",
        "        dataset_orig = load_preproc_data_german(['sex'])\n",
        "    else:\n",
        "        privileged_groups = [{'age': 1}]\n",
        "        unprivileged_groups = [{'age': 0}]\n",
        "        dataset_orig = load_preproc_data_german(['age'])\n",
        "    \n",
        "elif dataset_used == \"compas\":\n",
        "#     dataset_orig = CompasDataset()\n",
        "    if protected_attribute_used == 1:\n",
        "        privileged_groups = [{'sex': 1}]\n",
        "        unprivileged_groups = [{'sex': 0}]\n",
        "        dataset_orig = load_preproc_data_compas(['sex'])\n",
        "    else:\n",
        "        privileged_groups = [{'race': 1}]\n",
        "        unprivileged_groups = [{'race': 0}]\n",
        "        dataset_orig = load_preproc_data_compas(['race'])\n",
        "\n",
        "all_metrics =  [\"Statistical parity difference\",\n",
        "                   \"Average odds difference\",\n",
        "                   \"Equal opportunity difference\"]\n",
        "\n",
        "#random seed for calibrated equal odds prediction\n",
        "np.random.seed(1)"
      ]
    },
    {
      "cell_type": "markdown",
      "source": [
        "## Exploratory Data Analysis(EDA)"
      ],
      "metadata": {
        "id": "3cyhuFW_HOa4"
      }
    },
    {
      "cell_type": "code",
      "source": [
        "# Convert the initial Adult Dataset from AIf360 Library into a dataframe and view the created dataframe\n",
        "dataset_orig_adult= AdultDataset()\n",
        "dataset_orig_adult1=dataset_orig_adult.convert_to_dataframe()[0]\n",
        "dataset_orig_adult1"
      ],
      "metadata": {
        "id": "MxSoVRnPSHqa"
      },
      "execution_count": null,
      "outputs": []
    },
    {
      "cell_type": "code",
      "source": [
        "# Convert pre-processed AIF360 Adult dataset to dataframe and view dataframe created\n",
        "dataset_processed_adult = load_preproc_data_adult()\n",
        "dataset_processed_adult1=dataset_processed_adult.convert_to_dataframe()[0]\n",
        "dataset_processed_adult1"
      ],
      "metadata": {
        "id": "ZCkVkvqbJptu"
      },
      "execution_count": null,
      "outputs": []
    },
    {
      "cell_type": "code",
      "source": [
        "# View the data structure for the pre-processed Adult dataset\n",
        "dataset_processed_adult1.shape"
      ],
      "metadata": {
        "id": "mqL8blvcJ0yl"
      },
      "execution_count": null,
      "outputs": []
    },
    {
      "cell_type": "code",
      "source": [
        "# View the data structure for the initial Adult dataset in AIF360 library N/B missing data of 3620 rows were removed from AdultDataset\n",
        "dataset_orig_adult1.shape"
      ],
      "metadata": {
        "id": "ufjFxfMWJ6E9"
      },
      "execution_count": null,
      "outputs": []
    },
    {
      "cell_type": "code",
      "source": [
        "# View a list of the dataset features\n",
        "dataset_orig_adult1.columns.tolist()"
      ],
      "metadata": {
        "id": "dgb7lnpYKZWw"
      },
      "execution_count": null,
      "outputs": []
    },
    {
      "cell_type": "code",
      "source": [
        "# View the Features for the pre-processed Adult dataset\n",
        "dataset_processed_adult1.columns.tolist()"
      ],
      "metadata": {
        "id": "5A0sU09cKgTC"
      },
      "execution_count": null,
      "outputs": []
    },
    {
      "cell_type": "code",
      "source": [
        "# Check for missing values in the initial Adult dataset in AIF360 library\n",
        "dataset_orig_adult1.isnull().sum()"
      ],
      "metadata": {
        "id": "QbIB1YxbKihd"
      },
      "execution_count": null,
      "outputs": []
    },
    {
      "cell_type": "code",
      "source": [
        "# check for missing values for the pre-processed Adult dataset\n",
        "dataset_processed_adult1.isnull().sum()"
      ],
      "metadata": {
        "id": "ciPE33J1KoTF"
      },
      "execution_count": null,
      "outputs": []
    },
    {
      "cell_type": "code",
      "source": [
        "# Explore education number of years in the Adult dataset to check for outliers using box plot\n",
        "import seaborn as sns\n",
        "sns.boxplot(x= 'education-num', data= dataset_orig_adult1)\n",
        "plt.title('Education number Distribution for Adult Dataset')"
      ],
      "metadata": {
        "id": "BQvV9z0HZo18"
      },
      "execution_count": null,
      "outputs": []
    },
    {
      "cell_type": "code",
      "source": [
        "# Using a distplot, explore the effect of education number of years on Income level of residents \n",
        "dataset_orig_adult1['income-per-year']= dataset_orig_adult1['income-per-year'].replace({0.0:'<= $50k income', 1.0:'> $50K income'})\n",
        "sns.histplot(x= 'education-num', hue = 'income-per-year',data= dataset_orig_adult1,multiple=\"dodge\")\n",
        "plt.title('Education number by Income Distribution for Adult Dataset')"
      ],
      "metadata": {
        "id": "JsclUAV7dAaF"
      },
      "execution_count": null,
      "outputs": []
    },
    {
      "cell_type": "code",
      "source": [
        "# Explore age distribution relationship with income level of residents\n",
        "sns.histplot(x= 'age', hue = 'income-per-year',data= dataset_orig_adult1,multiple=\"stack\")\n",
        "plt.title('Age Distribution by Income for Adult Dataset')"
      ],
      "metadata": {
        "id": "Iy0rgwLQbR20"
      },
      "execution_count": null,
      "outputs": []
    },
    {
      "cell_type": "code",
      "source": [
        "## explore income binary in regards to sex distribution in adult dataset to check class imbalance and distribution\n",
        "## Privileged = 1, unprivileged = 0\n",
        "##sex (privileged: Male, unprivileged: Female) \n",
        "##Income binary( privileged: > $50K income, unprivileged: <= $50k income)\n",
        "import seaborn as sns\n",
        "dataset_processed_adult1['Income Binary']= dataset_processed_adult1['Income Binary'].replace({0.0:'<= $50k income', 1.0:'> $50K income'})\n",
        "sns.countplot(x=\"Income Binary\", hue= 'sex', data = dataset_processed_adult1)\n",
        "plt.title('Income Distribution by Sex for Adult Dataset')\n",
        "plt.legend(title= 'sex', labels=(\"Female\",\"Male\"))\n",
        "plt.show()"
      ],
      "metadata": {
        "id": "kb_R-M8k7jG_"
      },
      "execution_count": null,
      "outputs": []
    },
    {
      "cell_type": "code",
      "source": [
        "## explore  sex as a protected attribute in adult dataset to check class imbalance and distribution\n",
        "## Privileged = 1, unprivileged = 0\n",
        "##sex (privileged: Male, unprivileged: Female) \n",
        "dataset_processed_adult1['sex']= dataset_processed_adult1['sex'].replace({0.0:'Female', 1.0:'Male'})\n",
        "sns.countplot(x=\"sex\", data = dataset_processed_adult1)\n",
        "plt.title('Sex Distribution for Adult Dataset')\n",
        "plt.show()"
      ],
      "metadata": {
        "id": "mHGzdXxB7lC1"
      },
      "execution_count": null,
      "outputs": []
    },
    {
      "cell_type": "code",
      "source": [
        "## explore race as aprotected attribute in adult dataset to check class imbalance and distribution\n",
        "## Privileged = 1, unprivileged = 0\n",
        "##race (privileged: White, unprivileged: Non-white).\n",
        "dataset_processed_adult1['race']= dataset_processed_adult1['race'].replace({0.0:'Non-white', 1.0:'White'})\n",
        "sns.countplot(x=\"race\", data = dataset_processed_adult1)\n",
        "plt.title('Race Distribution for Adult Dataset')\n",
        "plt.show()"
      ],
      "metadata": {
        "id": "eQUrr6IQ7pXh"
      },
      "execution_count": null,
      "outputs": []
    },
    {
      "cell_type": "code",
      "source": [
        "# Explore income distribution of residents\n",
        "tips = dataset_orig_adult1\n",
        "ax= sns.countplot(x= 'income-per-year',data= tips)\n",
        "plt.title('Income Distribution for Adult Dataset')\n",
        "for p in ax.patches:\n",
        "    ax.annotate('{:.1f}%'.format(100*p.get_height()/len(tips)), (p.get_x()+0.2, p.get_height()+5))"
      ],
      "metadata": {
        "id": "N6BTvwHpD_yl"
      },
      "execution_count": null,
      "outputs": []
    },
    {
      "cell_type": "code",
      "source": [
        "# Convert pre-processed German dataset to dataframe\n",
        "dataset_processed_german = load_preproc_data_german(['sex'])\n",
        "dataset_processed_german2=dataset_processed_german.convert_to_dataframe()[0]\n",
        "dataset_processed_german2"
      ],
      "metadata": {
        "id": "NQ4QszM57rjv"
      },
      "execution_count": null,
      "outputs": []
    },
    {
      "cell_type": "code",
      "source": [
        "# Convert initial German dataset to dataframe\n",
        "dataset_orig_german=GermanDataset()\n",
        "dataset_orig_german1= dataset_orig_german.convert_to_dataframe()[0]\n",
        "dataset_orig_german1"
      ],
      "metadata": {
        "id": "DYQLRVZUU_Fu"
      },
      "execution_count": null,
      "outputs": []
    },
    {
      "cell_type": "code",
      "source": [
        "# View the data structure for the pre-processed German dataset\n",
        "dataset_processed_german2.shape"
      ],
      "metadata": {
        "id": "mQGvi-ndRfaY"
      },
      "execution_count": null,
      "outputs": []
    },
    {
      "cell_type": "code",
      "source": [
        "# View the data structure for the initial German dataset in AIF360 Library\n",
        "dataset_orig_german1.shape"
      ],
      "metadata": {
        "id": "Om9wDPnjRjTx"
      },
      "execution_count": null,
      "outputs": []
    },
    {
      "cell_type": "code",
      "source": [
        "# View the Features for the pre-processed German dataset\n",
        "dataset_processed_german2.columns.tolist()"
      ],
      "metadata": {
        "id": "d6DTI78kubUk"
      },
      "execution_count": null,
      "outputs": []
    },
    {
      "cell_type": "code",
      "source": [
        "# View the Features for the Initial German dataset in AIF360\n",
        "dataset_orig_german1.columns.tolist()"
      ],
      "metadata": {
        "id": "Rhn7kieSt45i"
      },
      "execution_count": null,
      "outputs": []
    },
    {
      "cell_type": "code",
      "source": [
        "# Check for missing values in pre-processed German dataset\n",
        "dataset_processed_german2.isnull().sum()"
      ],
      "metadata": {
        "id": "AB844igNLAcv"
      },
      "execution_count": null,
      "outputs": []
    },
    {
      "cell_type": "code",
      "source": [
        "# Explore credit risk based onduration in months.\n",
        "plt.figure(figsize=(15,5))\n",
        "sns.countplot(x=\"month\", hue= 'credit', data = dataset_orig_german1,palette=['#432371',\"#FAAE7B\"])\n",
        "plt.title('Duration of Credits(Month) Distribution for German Dataset')\n",
        "plt.legend(title= 'credit',labels=['good credit', 'bad credit'])\n",
        "plt.show()"
      ],
      "metadata": {
        "id": "vOPfVprOHDPQ"
      },
      "execution_count": null,
      "outputs": []
    },
    {
      "cell_type": "code",
      "source": [
        "## explore  sex in relationship with credit risk in processed German dataset to check class imbalance and distribution\n",
        "## Privileged = 1, unprivileged = 0\n",
        "##sex (privileged: Male, unprivileged: Female) \n",
        "## Credit ( good credit =1, bad credit = 2)\n",
        "dataset_processed_german2['sex']= dataset_processed_german2['sex'].replace({0.0:'Female', 1.0:'Male'})\n",
        "sns.countplot(x=\"sex\", hue= 'credit', data = dataset_processed_german2,palette=['#432371',\"#FAAE7B\"])\n",
        "plt.title('Sex Distribution for German Dataset')\n",
        "plt.legend(title= 'credit',labels=['good credit', 'bad credit'])\n",
        "plt.show()"
      ],
      "metadata": {
        "id": "F7FqoHL97wAv"
      },
      "execution_count": null,
      "outputs": []
    },
    {
      "cell_type": "code",
      "source": [
        "## explore age in German dataset to check class imbalance and distribution\n",
        "## Privileged  = 1, unprivileged = 0\n",
        "## age (privileged: Older than or Equal to 25 years, unprivileged: Younger than 25 years) \n",
        "## Credit ( good credit =1, bad credit = 2)\n",
        "dataset_processed_german2['age']= dataset_processed_german2['age'].replace({0.0:'< 25 years', 1.0:'>=25 years'})\n",
        "sns.countplot(x=\"age\", hue ='credit',data = dataset_processed_german2,palette=['#432371',\"#FAAE7B\"])\n",
        "plt.title('Age Distribution for German Dataset')\n",
        "plt.legend(title= 'credit',labels=['good credit', 'bad credit'])\n",
        "plt.show()"
      ],
      "metadata": {
        "id": "2n_zfMwy7w7J"
      },
      "execution_count": null,
      "outputs": []
    },
    {
      "cell_type": "code",
      "source": [
        "# Explore Credit distribution of German Dataset\n",
        "tips =  dataset_processed_german2\n",
        "## Credit ( good credit =1, bad credit = 2)\n",
        "dataset_processed_german2['credit']= dataset_processed_german2['credit'].replace({1.0:'Good credit', 2.0:'Bad credit'})\n",
        "ax= sns.countplot(x= 'credit',data= tips, palette= ['#432371',\"#FAAE7B\"])\n",
        "plt.title('Credit Distribution for German Dataset')\n",
        "for p in ax.patches:\n",
        "    ax.annotate('{:.1f}%'.format(100*p.get_height()/len(tips)), (p.get_x()+0.2, p.get_height()+5))"
      ],
      "metadata": {
        "id": "qJ4HPE6jJ2_w"
      },
      "execution_count": null,
      "outputs": []
    },
    {
      "cell_type": "code",
      "source": [
        "# Convert processed Compas dataset to dataframe\n",
        "dataset_processed_compas = load_preproc_data_compas()\n",
        "dataset_processed_compas2=dataset_processed_compas.convert_to_dataframe()[0]\n",
        "dataset_processed_compas2"
      ],
      "metadata": {
        "id": "KLVGepQ37zBy"
      },
      "execution_count": null,
      "outputs": []
    },
    {
      "cell_type": "code",
      "source": [
        "# Convert the Initial Compas dataset in AIF360 library to dataframe\n",
        "dataset_orig_compas = CompasDataset()\n",
        "dataset_orig_compas2 = dataset_orig_compas.convert_to_dataframe()[0]\n",
        "dataset_orig_compas2"
      ],
      "metadata": {
        "id": "f1Vg_8NL0Hb2"
      },
      "execution_count": null,
      "outputs": []
    },
    {
      "cell_type": "code",
      "source": [
        "# View the data structure for the pre-processed compas dataset\n",
        "dataset_processed_compas2.shape"
      ],
      "metadata": {
        "id": "o_tsbWIRg_3y"
      },
      "execution_count": null,
      "outputs": []
    },
    {
      "cell_type": "code",
      "source": [
        "# View the data structure for the initial compas dataset in AIF360 library\n",
        "dataset_orig_compas2.shape"
      ],
      "metadata": {
        "id": "-PXNIqYmhDaR"
      },
      "execution_count": null,
      "outputs": []
    },
    {
      "cell_type": "code",
      "source": [
        "# View the features for the pre-processed compas dataset\n",
        "dataset_processed_compas2.columns.tolist()"
      ],
      "metadata": {
        "id": "3584JjQrg6yT"
      },
      "execution_count": null,
      "outputs": []
    },
    {
      "cell_type": "code",
      "source": [
        "# View the Features for the initial compas dataset in AIF360 library\n",
        "dataset_orig_compas2.columns.tolist()"
      ],
      "metadata": {
        "id": "9ehjs8o00UwM"
      },
      "execution_count": null,
      "outputs": []
    },
    {
      "cell_type": "code",
      "source": [
        "# Check for missing values in pre-processed Compas dataset\n",
        "dataset_processed_compas2.isnull().sum()"
      ],
      "metadata": {
        "id": "PFEZHg3vLXv9"
      },
      "execution_count": null,
      "outputs": []
    },
    {
      "cell_type": "code",
      "source": [
        "# Explore Age distribution of the Initial Compas Dataset in relation to two-years recid\n",
        "dataset_orig_compas2['two_year_recid']= dataset_orig_compas2['two_year_recid'].replace({0.0:'re-offended',1.0:'did not re-offend'})\n",
        "sns.histplot(x= 'age', hue= 'two_year_recid', data= dataset_orig_compas2,multiple=\"stack\")\n",
        "plt.title('Age Distribution for Compas Dataset')\n",
        "plt.show()"
      ],
      "metadata": {
        "id": "eRKWylkgae0F"
      },
      "execution_count": null,
      "outputs": []
    },
    {
      "cell_type": "code",
      "source": [
        "#Explore the prior counts of crimes in relation to recidivism\n",
        "sns.histplot(x= 'priors_count', hue= 'two_year_recid', data= dataset_orig_compas2, multiple=\"stack\")\n",
        "plt.title('Prior Crime count Distribution for Compas Dataset' )\n",
        "plt.show()"
      ],
      "metadata": {
        "id": "T8SauRrnbes6"
      },
      "execution_count": null,
      "outputs": []
    }
  ],
  "metadata": {
    "colab": {
      "provenance": [],
      "toc_visible": true,
      "include_colab_link": true
    },
    "kernelspec": {
      "display_name": "Python 3",
      "language": "python",
      "name": "python3"
    },
    "language_info": {
      "codemirror_mode": {
        "name": "ipython",
        "version": 2
      },
      "file_extension": ".py",
      "mimetype": "text/x-python",
      "name": "python",
      "nbconvert_exporter": "python",
      "pygments_lexer": "ipython2",
      "version": "2.7.11"
    }
  },
  "nbformat": 4,
  "nbformat_minor": 0
}