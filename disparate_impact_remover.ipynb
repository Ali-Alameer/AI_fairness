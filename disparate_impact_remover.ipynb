{
  "cells": [
    {
      "cell_type": "markdown",
      "metadata": {
        "colab_type": "text",
        "id": "view-in-github"
      },
      "source": [
        "<a href=\"https://colab.research.google.com/github/Ali-Alameer/AI_fairness/blob/main/disparate_impact_remover.ipynb\" target=\"_parent\"><img src=\"https://colab.research.google.com/assets/colab-badge.svg\" alt=\"Open In Colab\"/></a>"
      ]
    },
    {
      "cell_type": "markdown",
      "metadata": {
        "id": "K_swytGulTCT"
      },
      "source": [
        "### This notebook demonstrates the ability of the DisparateImpactRemover algorithm.\n",
        "The algorithm corrects for imbalanced selection rates between unprivileged and privileged groups at various levels of repair. It follows the guidelines set forth by [1] for training the algorithm and classifier and uses the AdultDataset as an example."
      ]
    },
    {
      "cell_type": "code",
      "execution_count": null,
      "metadata": {
        "id": "b5uHITCPllxK"
      },
      "outputs": [],
      "source": [
        "!pip install 'aif360[all]'\n",
        "!wget https://raw.githubusercontent.com/Ali-Alameer/AI_fairness/main/common_utils.py"
      ]
    },
    {
      "cell_type": "code",
      "execution_count": null,
      "metadata": {
        "id": "KOxQFeRgmXJJ"
      },
      "outputs": [],
      "source": [
        "import urllib.request \n",
        "# For Adult dataset\n",
        "urllib.request.urlretrieve(\"https://archive.ics.uci.edu/ml/machine-learning-databases/adult/adult.data\",'/usr/local/lib/python3.9/dist-packages/aif360/data/raw/adult/adult.data')   \n",
        "urllib.request.urlretrieve(\"https://archive.ics.uci.edu/ml/machine-learning-databases/adult/adult.test\",'/usr/local/lib/python3.9/dist-packages/aif360/data/raw/adult/adult.test')  \n",
        "urllib.request.urlretrieve(\"https://archive.ics.uci.edu/ml/machine-learning-databases/adult/adult.names\",'/usr/local/lib/python3.9/dist-packages/aif360/data/raw/adult/adult.names') \n"
      ]
    },
    {
      "cell_type": "code",
      "execution_count": 3,
      "metadata": {
        "id": "7Zk-dRgklTCV"
      },
      "outputs": [],
      "source": [
        "from __future__ import absolute_import\n",
        "from __future__ import division\n",
        "from __future__ import print_function\n",
        "from __future__ import unicode_literals\n",
        "\n",
        "import matplotlib.pyplot as plt\n",
        "\n",
        "import sys\n",
        "sys.path.append(\"../\")\n",
        "import warnings\n",
        "\n",
        "import numpy as np\n",
        "from tqdm import tqdm\n",
        "\n",
        "from sklearn.linear_model import LogisticRegression\n",
        "from sklearn.svm import SVC as SVM\n",
        "from sklearn.preprocessing import MinMaxScaler\n",
        "\n",
        "from aif360.algorithms.preprocessing import DisparateImpactRemover\n",
        "from aif360.datasets import AdultDataset\n",
        "from aif360.metrics import BinaryLabelDatasetMetric\n",
        "from common_utils import compute_metrics"
      ]
    },
    {
      "cell_type": "code",
      "execution_count": 4,
      "metadata": {
        "id": "xUeN7eYplTCW"
      },
      "outputs": [],
      "source": [
        "protected = 'sex'\n",
        "ad = AdultDataset(protected_attribute_names=[protected],\n",
        "    privileged_classes=[['Male']], categorical_features=[],\n",
        "    features_to_keep=['age', 'education-num', 'capital-gain', 'capital-loss', 'hours-per-week'])"
      ]
    },
    {
      "cell_type": "code",
      "execution_count": 5,
      "metadata": {
        "id": "m9LmxuY_lTCW"
      },
      "outputs": [],
      "source": [
        "scaler = MinMaxScaler(copy=False)"
      ]
    },
    {
      "cell_type": "code",
      "execution_count": 6,
      "metadata": {
        "id": "YuljMCF5lTCW"
      },
      "outputs": [],
      "source": [
        "test, train = ad.split([16281])\n",
        "train.features = scaler.fit_transform(train.features)\n",
        "test.features = scaler.fit_transform(test.features)\n",
        "\n",
        "index = train.feature_names.index(protected)"
      ]
    },
    {
      "attachments": {},
      "cell_type": "markdown",
      "metadata": {},
      "source": [
        "The repair_level parameter in DisparateImpactRemover specifies the amount or intensity of the repair applied to the data. It is typically a value between 0 and 1, where 0 means no repair (i.e., no modification of the data) and 1 means maximum repair (i.e., full modification of the data to eliminate disparate impact). The value of repair_level determines the trade-off between fairness and accuracy in the resulting model. Higher values of repair_level may result in more fairness but potentially lower accuracy, while lower values may result in higher accuracy but less fairness."
      ]
    },
    {
      "cell_type": "code",
      "execution_count": null,
      "metadata": {
        "id": "kcUbHdaWlTCW"
      },
      "outputs": [],
      "source": [
        "DIs = []\n",
        "acc = []\n",
        "dis_impact = []\n",
        "ave_odds_diff = []\n",
        "for level in tqdm(np.linspace(0., 1., 11)):\n",
        "    di = DisparateImpactRemover(repair_level=level)\n",
        "    train_repd = di.fit_transform(train)\n",
        "    test_repd = di.fit_transform(test)\n",
        "    \n",
        "    X_tr = np.delete(train_repd.features, index, axis=1)\n",
        "    X_te = np.delete(test_repd.features, index, axis=1)\n",
        "    y_tr = train_repd.labels.ravel()\n",
        "    \n",
        "    lmod = LogisticRegression(class_weight='balanced', solver='liblinear')\n",
        "    lmod.fit(X_tr, y_tr)\n",
        "    \n",
        "    test_repd_pred = test_repd.copy()\n",
        "    test_repd_pred.labels = lmod.predict(X_te)\n",
        "\n",
        "    p = [{protected: 1}]\n",
        "    u = [{protected: 0}]\n",
        "    cm = BinaryLabelDatasetMetric(test_repd_pred, privileged_groups=p, unprivileged_groups=u)\n",
        "    print(\"Repair Level = %f\" % level)\n",
        "    print(\"Difference in mean outcomes between unprivileged and privileged groups = %f\" % cm.mean_difference())\n",
        "    metric_test = compute_metrics(test_repd, test_repd_pred, \n",
        "                                      unprivileged_groups=u, privileged_groups=p,\n",
        "                                      disp = False)\n",
        "    print(\"Model accuracy = %f\" % metric_test[\"Balanced accuracy\"])\n",
        "    acc.append(metric_test[\"Balanced accuracy\"])\n",
        "    print(\"Average odds difference = %f\" % metric_test[\"Average odds difference\"])\n",
        "    ave_odds_diff.append(metric_test[\"Average odds difference\"])\n",
        "    print(\"Disparate impact = %f\" % metric_test[\"Disparate impact\"])\n",
        "    dis_impact.append(metric_test[\"Disparate impact\"])\n",
        "    DIs.append(cm.disparate_impact())"
      ]
    },
    {
      "cell_type": "code",
      "execution_count": null,
      "metadata": {
        "id": "Hbmz3H3VlTCX"
      },
      "outputs": [],
      "source": [
        "%matplotlib inline\n",
        "plt.plot(np.linspace(0, 1, 11), DIs, marker='o')\n",
        "plt.plot([0, 1], [1, 1], 'g')\n",
        "plt.plot([0, 1], [0.8, 0.8], 'r')\n",
        "plt.ylim([0.4, 1.2])\n",
        "plt.ylabel('Disparate Impact (DI)')\n",
        "plt.xlabel('repair level')\n",
        "plt.show()"
      ]
    },
    {
      "cell_type": "markdown",
      "metadata": {
        "id": "15oJkoXwlTCX"
      },
      "source": [
        "    References:\n",
        "        .. [1] M. Feldman, S. A. Friedler, J. Moeller, C. Scheidegger, and\n",
        "           S. Venkatasubramanian, \"Certifying and removing disparate impact.\"\n",
        "           ACM SIGKDD International Conference on Knowledge Discovery and Data\n",
        "           Mining, 2015."
      ]
    }
  ],
  "metadata": {
    "colab": {
      "include_colab_link": true,
      "provenance": []
    },
    "kernelspec": {
      "display_name": "Python 3",
      "language": "python",
      "name": "python3"
    },
    "language_info": {
      "codemirror_mode": {
        "name": "ipython",
        "version": 3
      },
      "file_extension": ".py",
      "mimetype": "text/x-python",
      "name": "python",
      "nbconvert_exporter": "python",
      "pygments_lexer": "ipython3",
      "version": "3.6.7"
    }
  },
  "nbformat": 4,
  "nbformat_minor": 0
}
